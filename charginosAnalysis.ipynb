{
 "cells": [
  {
   "cell_type": "code",
   "execution_count": 1,
   "id": "measured-certification",
   "metadata": {},
   "outputs": [
    {
     "data": {
      "text/html": [
       "<div>\n",
       "<style scoped>\n",
       "    .dataframe tbody tr th:only-of-type {\n",
       "        vertical-align: middle;\n",
       "    }\n",
       "\n",
       "    .dataframe tbody tr th {\n",
       "        vertical-align: top;\n",
       "    }\n",
       "\n",
       "    .dataframe thead th {\n",
       "        text-align: right;\n",
       "    }\n",
       "</style>\n",
       "<table border=\"1\" class=\"dataframe\">\n",
       "  <thead>\n",
       "    <tr style=\"text-align: right;\">\n",
       "      <th></th>\n",
       "      <th>pId</th>\n",
       "      <th>status</th>\n",
       "      <th>charge</th>\n",
       "      <th>mass</th>\n",
       "      <th>pt</th>\n",
       "      <th>phi</th>\n",
       "      <th>eta</th>\n",
       "      <th>p</th>\n",
       "      <th>beta</th>\n",
       "      <th>gamma</th>\n",
       "      <th>less10Gev</th>\n",
       "      <th>notNearTrack</th>\n",
       "    </tr>\n",
       "  </thead>\n",
       "  <tbody>\n",
       "    <tr>\n",
       "      <th>0</th>\n",
       "      <td>1000024</td>\n",
       "      <td>62</td>\n",
       "      <td>1</td>\n",
       "      <td>700.048</td>\n",
       "      <td>109.149</td>\n",
       "      <td>2.742540</td>\n",
       "      <td>3.079860</td>\n",
       "      <td>1189.790</td>\n",
       "      <td>0.861881</td>\n",
       "      <td>1.97195</td>\n",
       "      <td>0</td>\n",
       "      <td>0</td>\n",
       "    </tr>\n",
       "    <tr>\n",
       "      <th>1</th>\n",
       "      <td>-1000024</td>\n",
       "      <td>62</td>\n",
       "      <td>-1</td>\n",
       "      <td>700.048</td>\n",
       "      <td>134.275</td>\n",
       "      <td>-0.234468</td>\n",
       "      <td>-0.022846</td>\n",
       "      <td>134.310</td>\n",
       "      <td>0.188422</td>\n",
       "      <td>1.01824</td>\n",
       "      <td>0</td>\n",
       "      <td>1</td>\n",
       "    </tr>\n",
       "    <tr>\n",
       "      <th>2</th>\n",
       "      <td>1000024</td>\n",
       "      <td>62</td>\n",
       "      <td>1</td>\n",
       "      <td>700.048</td>\n",
       "      <td>279.622</td>\n",
       "      <td>0.529638</td>\n",
       "      <td>-2.061050</td>\n",
       "      <td>1115.910</td>\n",
       "      <td>0.847108</td>\n",
       "      <td>1.88175</td>\n",
       "      <td>0</td>\n",
       "      <td>1</td>\n",
       "    </tr>\n",
       "    <tr>\n",
       "      <th>3</th>\n",
       "      <td>-1000024</td>\n",
       "      <td>62</td>\n",
       "      <td>-1</td>\n",
       "      <td>700.048</td>\n",
       "      <td>249.409</td>\n",
       "      <td>-2.786050</td>\n",
       "      <td>-1.943630</td>\n",
       "      <td>888.797</td>\n",
       "      <td>0.785585</td>\n",
       "      <td>1.61615</td>\n",
       "      <td>0</td>\n",
       "      <td>1</td>\n",
       "    </tr>\n",
       "    <tr>\n",
       "      <th>4</th>\n",
       "      <td>-1000024</td>\n",
       "      <td>62</td>\n",
       "      <td>-1</td>\n",
       "      <td>700.048</td>\n",
       "      <td>283.369</td>\n",
       "      <td>0.710112</td>\n",
       "      <td>-1.121270</td>\n",
       "      <td>480.965</td>\n",
       "      <td>0.566274</td>\n",
       "      <td>1.21327</td>\n",
       "      <td>0</td>\n",
       "      <td>0</td>\n",
       "    </tr>\n",
       "  </tbody>\n",
       "</table>\n",
       "</div>"
      ],
      "text/plain": [
       "       pId  status  charge     mass       pt       phi       eta         p  \\\n",
       "0  1000024      62       1  700.048  109.149  2.742540  3.079860  1189.790   \n",
       "1 -1000024      62      -1  700.048  134.275 -0.234468 -0.022846   134.310   \n",
       "2  1000024      62       1  700.048  279.622  0.529638 -2.061050  1115.910   \n",
       "3 -1000024      62      -1  700.048  249.409 -2.786050 -1.943630   888.797   \n",
       "4 -1000024      62      -1  700.048  283.369  0.710112 -1.121270   480.965   \n",
       "\n",
       "       beta    gamma  less10Gev  notNearTrack  \n",
       "0  0.861881  1.97195          0             0  \n",
       "1  0.188422  1.01824          0             1  \n",
       "2  0.847108  1.88175          0             1  \n",
       "3  0.785585  1.61615          0             1  \n",
       "4  0.566274  1.21327          0             0  "
      ]
     },
     "execution_count": 1,
     "metadata": {},
     "output_type": "execute_result"
    }
   ],
   "source": [
    "import pandas as pd\n",
    "import numpy as np\n",
    "import matplotlib.pyplot as plt\n",
    "\n",
    "df = pd.read_table('charginn.txt',names=['pId', 'status', 'charge', 'mass', 'pt', 'phi', 'eta', 'p', 'beta', 'gamma', 'less10Gev', 'notNearTrack'])\n",
    "\n",
    "df.head()"
   ]
  },
  {
   "cell_type": "code",
   "execution_count": 2,
   "id": "religious-symposium",
   "metadata": {},
   "outputs": [
    {
     "data": {
      "text/html": [
       "<div>\n",
       "<style scoped>\n",
       "    .dataframe tbody tr th:only-of-type {\n",
       "        vertical-align: middle;\n",
       "    }\n",
       "\n",
       "    .dataframe tbody tr th {\n",
       "        vertical-align: top;\n",
       "    }\n",
       "\n",
       "    .dataframe thead th {\n",
       "        text-align: right;\n",
       "    }\n",
       "</style>\n",
       "<table border=\"1\" class=\"dataframe\">\n",
       "  <thead>\n",
       "    <tr style=\"text-align: right;\">\n",
       "      <th></th>\n",
       "      <th>pId</th>\n",
       "      <th>status</th>\n",
       "      <th>charge</th>\n",
       "      <th>mass</th>\n",
       "      <th>pt</th>\n",
       "      <th>phi</th>\n",
       "      <th>eta</th>\n",
       "      <th>p</th>\n",
       "      <th>beta</th>\n",
       "      <th>gamma</th>\n",
       "      <th>less10Gev</th>\n",
       "      <th>notNearTrack</th>\n",
       "    </tr>\n",
       "  </thead>\n",
       "  <tbody>\n",
       "  </tbody>\n",
       "</table>\n",
       "</div>"
      ],
      "text/plain": [
       "Empty DataFrame\n",
       "Columns: [pId, status, charge, mass, pt, phi, eta, p, beta, gamma, less10Gev, notNearTrack]\n",
       "Index: []"
      ]
     },
     "execution_count": 2,
     "metadata": {},
     "output_type": "execute_result"
    }
   ],
   "source": [
    "less10GeV = df[df['less10Gev'] == 1]\n",
    "\n",
    "less10GeV.head()"
   ]
  },
  {
   "cell_type": "code",
   "execution_count": 3,
   "id": "armed-corps",
   "metadata": {},
   "outputs": [
    {
     "data": {
      "text/html": [
       "<div>\n",
       "<style scoped>\n",
       "    .dataframe tbody tr th:only-of-type {\n",
       "        vertical-align: middle;\n",
       "    }\n",
       "\n",
       "    .dataframe tbody tr th {\n",
       "        vertical-align: top;\n",
       "    }\n",
       "\n",
       "    .dataframe thead th {\n",
       "        text-align: right;\n",
       "    }\n",
       "</style>\n",
       "<table border=\"1\" class=\"dataframe\">\n",
       "  <thead>\n",
       "    <tr style=\"text-align: right;\">\n",
       "      <th></th>\n",
       "      <th>pId</th>\n",
       "      <th>status</th>\n",
       "      <th>charge</th>\n",
       "      <th>mass</th>\n",
       "      <th>pt</th>\n",
       "      <th>phi</th>\n",
       "      <th>eta</th>\n",
       "      <th>p</th>\n",
       "      <th>beta</th>\n",
       "      <th>gamma</th>\n",
       "      <th>less10Gev</th>\n",
       "      <th>notNearTrack</th>\n",
       "    </tr>\n",
       "  </thead>\n",
       "  <tbody>\n",
       "    <tr>\n",
       "      <th>0</th>\n",
       "      <td>1000024</td>\n",
       "      <td>62</td>\n",
       "      <td>1</td>\n",
       "      <td>700.048</td>\n",
       "      <td>109.149</td>\n",
       "      <td>2.742540</td>\n",
       "      <td>3.079860</td>\n",
       "      <td>1189.790</td>\n",
       "      <td>0.861881</td>\n",
       "      <td>1.97195</td>\n",
       "      <td>0</td>\n",
       "      <td>0</td>\n",
       "    </tr>\n",
       "    <tr>\n",
       "      <th>4</th>\n",
       "      <td>-1000024</td>\n",
       "      <td>62</td>\n",
       "      <td>-1</td>\n",
       "      <td>700.048</td>\n",
       "      <td>283.369</td>\n",
       "      <td>0.710112</td>\n",
       "      <td>-1.121270</td>\n",
       "      <td>480.965</td>\n",
       "      <td>0.566274</td>\n",
       "      <td>1.21327</td>\n",
       "      <td>0</td>\n",
       "      <td>0</td>\n",
       "    </tr>\n",
       "    <tr>\n",
       "      <th>5</th>\n",
       "      <td>1000024</td>\n",
       "      <td>62</td>\n",
       "      <td>1</td>\n",
       "      <td>700.048</td>\n",
       "      <td>306.623</td>\n",
       "      <td>2.455400</td>\n",
       "      <td>1.494320</td>\n",
       "      <td>717.605</td>\n",
       "      <td>0.715809</td>\n",
       "      <td>1.43206</td>\n",
       "      <td>0</td>\n",
       "      <td>0</td>\n",
       "    </tr>\n",
       "    <tr>\n",
       "      <th>17</th>\n",
       "      <td>1000024</td>\n",
       "      <td>62</td>\n",
       "      <td>1</td>\n",
       "      <td>700.048</td>\n",
       "      <td>290.867</td>\n",
       "      <td>-0.200109</td>\n",
       "      <td>0.638349</td>\n",
       "      <td>352.170</td>\n",
       "      <td>0.449403</td>\n",
       "      <td>1.11941</td>\n",
       "      <td>0</td>\n",
       "      <td>0</td>\n",
       "    </tr>\n",
       "    <tr>\n",
       "      <th>23</th>\n",
       "      <td>1000024</td>\n",
       "      <td>62</td>\n",
       "      <td>1</td>\n",
       "      <td>700.048</td>\n",
       "      <td>203.160</td>\n",
       "      <td>-2.654070</td>\n",
       "      <td>2.571330</td>\n",
       "      <td>1336.750</td>\n",
       "      <td>0.885874</td>\n",
       "      <td>2.15551</td>\n",
       "      <td>0</td>\n",
       "      <td>0</td>\n",
       "    </tr>\n",
       "  </tbody>\n",
       "</table>\n",
       "</div>"
      ],
      "text/plain": [
       "        pId  status  charge     mass       pt       phi       eta         p  \\\n",
       "0   1000024      62       1  700.048  109.149  2.742540  3.079860  1189.790   \n",
       "4  -1000024      62      -1  700.048  283.369  0.710112 -1.121270   480.965   \n",
       "5   1000024      62       1  700.048  306.623  2.455400  1.494320   717.605   \n",
       "17  1000024      62       1  700.048  290.867 -0.200109  0.638349   352.170   \n",
       "23  1000024      62       1  700.048  203.160 -2.654070  2.571330  1336.750   \n",
       "\n",
       "        beta    gamma  less10Gev  notNearTrack  \n",
       "0   0.861881  1.97195          0             0  \n",
       "4   0.566274  1.21327          0             0  \n",
       "5   0.715809  1.43206          0             0  \n",
       "17  0.449403  1.11941          0             0  \n",
       "23  0.885874  2.15551          0             0  "
      ]
     },
     "execution_count": 3,
     "metadata": {},
     "output_type": "execute_result"
    }
   ],
   "source": [
    "notNear = df[df['notNearTrack'] == 0]\n",
    "notNear.head()"
   ]
  },
  {
   "cell_type": "code",
   "execution_count": 4,
   "id": "plastic-mission",
   "metadata": {},
   "outputs": [
    {
     "data": {
      "text/plain": [
       "(13202, 12)"
      ]
     },
     "execution_count": 4,
     "metadata": {},
     "output_type": "execute_result"
    }
   ],
   "source": [
    "df.shape"
   ]
  },
  {
   "cell_type": "code",
   "execution_count": 5,
   "id": "pretty-deposit",
   "metadata": {},
   "outputs": [
    {
     "data": {
      "text/plain": [
       "(3774, 12)"
      ]
     },
     "execution_count": 5,
     "metadata": {},
     "output_type": "execute_result"
    }
   ],
   "source": [
    "notNear.shape"
   ]
  },
  {
   "cell_type": "code",
   "execution_count": 6,
   "id": "informed-webmaster",
   "metadata": {},
   "outputs": [
    {
     "data": {
      "text/plain": [
       "(0, 12)"
      ]
     },
     "execution_count": 6,
     "metadata": {},
     "output_type": "execute_result"
    }
   ],
   "source": [
    "less10GeV.shape"
   ]
  },
  {
   "cell_type": "code",
   "execution_count": 7,
   "id": "liquid-football",
   "metadata": {},
   "outputs": [
    {
     "data": {
      "text/html": [
       "<div>\n",
       "<style scoped>\n",
       "    .dataframe tbody tr th:only-of-type {\n",
       "        vertical-align: middle;\n",
       "    }\n",
       "\n",
       "    .dataframe tbody tr th {\n",
       "        vertical-align: top;\n",
       "    }\n",
       "\n",
       "    .dataframe thead th {\n",
       "        text-align: right;\n",
       "    }\n",
       "</style>\n",
       "<table border=\"1\" class=\"dataframe\">\n",
       "  <thead>\n",
       "    <tr style=\"text-align: right;\">\n",
       "      <th></th>\n",
       "      <th>cTau</th>\n",
       "      <th>cTau*boost</th>\n",
       "    </tr>\n",
       "  </thead>\n",
       "  <tbody>\n",
       "    <tr>\n",
       "      <th>0</th>\n",
       "      <td>167.75800</td>\n",
       "      <td>98.7050</td>\n",
       "    </tr>\n",
       "    <tr>\n",
       "      <th>1</th>\n",
       "      <td>19.89770</td>\n",
       "      <td>103.7100</td>\n",
       "    </tr>\n",
       "    <tr>\n",
       "      <th>2</th>\n",
       "      <td>313.30900</td>\n",
       "      <td>196.5500</td>\n",
       "    </tr>\n",
       "    <tr>\n",
       "      <th>3</th>\n",
       "      <td>366.32400</td>\n",
       "      <td>288.5300</td>\n",
       "    </tr>\n",
       "    <tr>\n",
       "      <th>4</th>\n",
       "      <td>3.86992</td>\n",
       "      <td>5.6327</td>\n",
       "    </tr>\n",
       "  </tbody>\n",
       "</table>\n",
       "</div>"
      ],
      "text/plain": [
       "        cTau  cTau*boost\n",
       "0  167.75800     98.7050\n",
       "1   19.89770    103.7100\n",
       "2  313.30900    196.5500\n",
       "3  366.32400    288.5300\n",
       "4    3.86992      5.6327"
      ]
     },
     "execution_count": 7,
     "metadata": {},
     "output_type": "execute_result"
    }
   ],
   "source": [
    "ctau = pd.read_table('ctau.txt', names=['cTau', 'cTau*boost'])\n",
    "\n",
    "ctau.head()"
   ]
  },
  {
   "cell_type": "code",
   "execution_count": 8,
   "id": "dimensional-march",
   "metadata": {},
   "outputs": [
    {
     "data": {
      "text/plain": [
       "array([[<AxesSubplot:title={'center':'cTau'}>,\n",
       "        <AxesSubplot:title={'center':'cTau*boost'}>]], dtype=object)"
      ]
     },
     "execution_count": 8,
     "metadata": {},
     "output_type": "execute_result"
    },
    {
     "data": {
      "image/png": "[encoded data removed]",
      "text/plain": [
       "<Figure size 1152x576 with 2 Axes>"
      ]
     },
     "metadata": {
      "needs_background": "light"
     },
     "output_type": "display_data"
    }
   ],
   "source": [
    "ctau.hist(bins=100,figsize=(16,8))"
   ]
  },
  {
   "cell_type": "code",
   "execution_count": 9,
   "id": "complex-stability",
   "metadata": {},
   "outputs": [
    {
     "name": "stdout",
     "output_type": "stream",
     "text": [
      "0        4\n",
      "1       24\n",
      "2       25\n",
      "3        3\n",
      "4       18\n",
      "        ..\n",
      "9423     8\n",
      "9424    11\n",
      "9425    20\n",
      "9426     7\n",
      "9427     5\n",
      "Name: validHits, Length: 9428, dtype: int64\n"
     ]
    }
   ],
   "source": [
    "tracks = pd.read_table('tracksCharginos.txt', names=['charge','pt','phi','eta','validHits'])\n",
    "\n",
    "validHits = tracks['validHits']\n",
    "print(validHits)"
   ]
  },
  {
   "cell_type": "code",
   "execution_count": 10,
   "id": "supported-kennedy",
   "metadata": {},
   "outputs": [
    {
     "data": {
      "text/html": [
       "<div>\n",
       "<style scoped>\n",
       "    .dataframe tbody tr th:only-of-type {\n",
       "        vertical-align: middle;\n",
       "    }\n",
       "\n",
       "    .dataframe tbody tr th {\n",
       "        vertical-align: top;\n",
       "    }\n",
       "\n",
       "    .dataframe thead th {\n",
       "        text-align: right;\n",
       "    }\n",
       "</style>\n",
       "<table border=\"1\" class=\"dataframe\">\n",
       "  <thead>\n",
       "    <tr style=\"text-align: right;\">\n",
       "      <th></th>\n",
       "      <th>pId</th>\n",
       "      <th>validHits</th>\n",
       "      <th>status</th>\n",
       "      <th>charge</th>\n",
       "      <th>mass</th>\n",
       "      <th>pt</th>\n",
       "      <th>phi</th>\n",
       "      <th>eta</th>\n",
       "      <th>p</th>\n",
       "      <th>beta</th>\n",
       "      <th>gamma</th>\n",
       "      <th>less10Gev</th>\n",
       "      <th>notNearTrack</th>\n",
       "      <th>cTau</th>\n",
       "      <th>cTau*boost</th>\n",
       "    </tr>\n",
       "  </thead>\n",
       "  <tbody>\n",
       "    <tr>\n",
       "      <th>1</th>\n",
       "      <td>-1000024</td>\n",
       "      <td>24.0</td>\n",
       "      <td>62</td>\n",
       "      <td>-1</td>\n",
       "      <td>700.048</td>\n",
       "      <td>134.275</td>\n",
       "      <td>-0.234468</td>\n",
       "      <td>-0.022846</td>\n",
       "      <td>134.310</td>\n",
       "      <td>0.188422</td>\n",
       "      <td>1.01824</td>\n",
       "      <td>0</td>\n",
       "      <td>1</td>\n",
       "      <td>19.8977</td>\n",
       "      <td>103.71</td>\n",
       "    </tr>\n",
       "    <tr>\n",
       "      <th>2</th>\n",
       "      <td>1000024</td>\n",
       "      <td>25.0</td>\n",
       "      <td>62</td>\n",
       "      <td>1</td>\n",
       "      <td>700.048</td>\n",
       "      <td>279.622</td>\n",
       "      <td>0.529638</td>\n",
       "      <td>-2.061050</td>\n",
       "      <td>1115.910</td>\n",
       "      <td>0.847108</td>\n",
       "      <td>1.88175</td>\n",
       "      <td>0</td>\n",
       "      <td>1</td>\n",
       "      <td>313.3090</td>\n",
       "      <td>196.55</td>\n",
       "    </tr>\n",
       "    <tr>\n",
       "      <th>3</th>\n",
       "      <td>-1000024</td>\n",
       "      <td>3.0</td>\n",
       "      <td>62</td>\n",
       "      <td>-1</td>\n",
       "      <td>700.048</td>\n",
       "      <td>249.409</td>\n",
       "      <td>-2.786050</td>\n",
       "      <td>-1.943630</td>\n",
       "      <td>888.797</td>\n",
       "      <td>0.785585</td>\n",
       "      <td>1.61615</td>\n",
       "      <td>0</td>\n",
       "      <td>1</td>\n",
       "      <td>366.3240</td>\n",
       "      <td>288.53</td>\n",
       "    </tr>\n",
       "    <tr>\n",
       "      <th>6</th>\n",
       "      <td>-1000024</td>\n",
       "      <td>14.0</td>\n",
       "      <td>62</td>\n",
       "      <td>-1</td>\n",
       "      <td>700.048</td>\n",
       "      <td>116.069</td>\n",
       "      <td>-2.465940</td>\n",
       "      <td>2.642970</td>\n",
       "      <td>819.801</td>\n",
       "      <td>0.760465</td>\n",
       "      <td>1.53993</td>\n",
       "      <td>0</td>\n",
       "      <td>1</td>\n",
       "      <td>368.9790</td>\n",
       "      <td>315.08</td>\n",
       "    </tr>\n",
       "    <tr>\n",
       "      <th>7</th>\n",
       "      <td>1000024</td>\n",
       "      <td>10.0</td>\n",
       "      <td>62</td>\n",
       "      <td>1</td>\n",
       "      <td>700.048</td>\n",
       "      <td>526.916</td>\n",
       "      <td>1.445640</td>\n",
       "      <td>-0.111461</td>\n",
       "      <td>530.192</td>\n",
       "      <td>0.603751</td>\n",
       "      <td>1.25443</td>\n",
       "      <td>0</td>\n",
       "      <td>1</td>\n",
       "      <td>189.7580</td>\n",
       "      <td>250.55</td>\n",
       "    </tr>\n",
       "  </tbody>\n",
       "</table>\n",
       "</div>"
      ],
      "text/plain": [
       "       pId  validHits  status  charge     mass       pt       phi       eta  \\\n",
       "1 -1000024       24.0      62      -1  700.048  134.275 -0.234468 -0.022846   \n",
       "2  1000024       25.0      62       1  700.048  279.622  0.529638 -2.061050   \n",
       "3 -1000024        3.0      62      -1  700.048  249.409 -2.786050 -1.943630   \n",
       "6 -1000024       14.0      62      -1  700.048  116.069 -2.465940  2.642970   \n",
       "7  1000024       10.0      62       1  700.048  526.916  1.445640 -0.111461   \n",
       "\n",
       "          p      beta    gamma  less10Gev  notNearTrack      cTau  cTau*boost  \n",
       "1   134.310  0.188422  1.01824          0             1   19.8977      103.71  \n",
       "2  1115.910  0.847108  1.88175          0             1  313.3090      196.55  \n",
       "3   888.797  0.785585  1.61615          0             1  366.3240      288.53  \n",
       "6   819.801  0.760465  1.53993          0             1  368.9790      315.08  \n",
       "7   530.192  0.603751  1.25443          0             1  189.7580      250.55  "
      ]
     },
     "execution_count": 10,
     "metadata": {},
     "output_type": "execute_result"
    }
   ],
   "source": [
    "df['cTau'] = ctau['cTau']\n",
    "df['cTau*boost'] = ctau['cTau*boost']\n",
    "\n",
    "trackedCharginos = df[df['notNearTrack']==1]\n",
    "trackedCharginos.insert(1, \"validHits\", validHits)\n",
    "\n",
    "trackedCharginos.head()"
   ]
  },
  {
   "cell_type": "code",
   "execution_count": 11,
   "id": "arbitrary-commonwealth",
   "metadata": {},
   "outputs": [
    {
     "data": {
      "image/png": "[encoded data removed]",
      "text/plain": [
       "<Figure size 432x288 with 1 Axes>"
      ]
     },
     "metadata": {
      "needs_background": "light"
     },
     "output_type": "display_data"
    }
   ],
   "source": [
    "im = plt.hist2d(trackedCharginos['cTau'], validHits, bins=30,range=[[0,600],[3,32]], cmap='inferno')"
   ]
  },
  {
   "cell_type": "code",
   "execution_count": 16,
   "id": "brazilian-produce",
   "metadata": {},
   "outputs": [
    {
     "data": {
      "image/png": "[encoded data removed]",
      "text/plain": [
       "<Figure size 432x288 with 1 Axes>"
      ]
     },
     "metadata": {
      "needs_background": "light"
     },
     "output_type": "display_data"
    }
   ],
   "source": [
    "_,_,_,im = plt.hist2d(trackedCharginos['cTau*boost'], validHits, bins=28, range=[[0,100],[2.5,30.5]], cmap='inferno')"
   ]
  },
  {
   "cell_type": "code",
   "execution_count": 18,
   "id": "cheap-elder",
   "metadata": {},
   "outputs": [
    {
     "data": {
      "image/png": "[encoded data removed]",
      "text/plain": [
       "<Figure size 432x288 with 1 Axes>"
      ]
     },
     "metadata": {
      "needs_background": "light"
     },
     "output_type": "display_data"
    }
   ],
   "source": [
    "_,_,im = plt.hist(validHits,bins=100)"
   ]
  },
  {
   "cell_type": "code",
   "execution_count": 19,
   "id": "finished-administrator",
   "metadata": {},
   "outputs": [
    {
     "data": {
      "image/png": "[encoded data removed]",
      "text/plain": [
       "<Figure size 576x576 with 1 Axes>"
      ]
     },
     "metadata": {
      "needs_background": "light"
     },
     "output_type": "display_data"
    }
   ],
   "source": [
    "ctau200 = trackedCharginos[trackedCharginos['cTau*boost'] > 200]\n",
    "\n",
    "fig = plt.figure(figsize=(8,8))\n",
    "ax = fig.add_subplot(111)\n",
    "\n",
    "_,_,_,im = ax.hist2d(ctau200['cTau*boost'], ctau200['validHits'], bins=30, range=[[200,500],[3,32]], cmap='inferno')"
   ]
  },
  {
   "cell_type": "code",
   "execution_count": 20,
   "id": "ongoing-illinois",
   "metadata": {},
   "outputs": [
    {
     "data": {
      "image/png": "[encoded data removed]",
      "text/plain": [
       "<Figure size 576x576 with 1 Axes>"
      ]
     },
     "metadata": {
      "needs_background": "light"
     },
     "output_type": "display_data"
    }
   ],
   "source": [
    "cTauG200 = trackedCharginos[trackedCharginos['cTau*boost'] > 200]\n",
    "cTauL200 = trackedCharginos[trackedCharginos['cTau*boost'] < 200]\n",
    "\n",
    "fig = plt.figure(figsize=(8,8))\n",
    "ax = fig.add_subplot(111)\n",
    "\n",
    "_,_,_,im = ax.hist2d(cTauL200['cTau*boost'], cTauL200['validHits'], bins=30, range=[[0,200],[3,32]], cmap='inferno')"
   ]
  },
  {
   "cell_type": "code",
   "execution_count": 79,
   "id": "conservative-element",
   "metadata": {},
   "outputs": [
    {
     "data": {
      "text/html": [
       "<div>\n",
       "<style scoped>\n",
       "    .dataframe tbody tr th:only-of-type {\n",
       "        vertical-align: middle;\n",
       "    }\n",
       "\n",
       "    .dataframe tbody tr th {\n",
       "        vertical-align: top;\n",
       "    }\n",
       "\n",
       "    .dataframe thead th {\n",
       "        text-align: right;\n",
       "    }\n",
       "</style>\n",
       "<table border=\"1\" class=\"dataframe\">\n",
       "  <thead>\n",
       "    <tr style=\"text-align: right;\">\n",
       "      <th></th>\n",
       "      <th>pId</th>\n",
       "      <th>validHits</th>\n",
       "      <th>status</th>\n",
       "      <th>charge</th>\n",
       "      <th>mass</th>\n",
       "      <th>pt</th>\n",
       "      <th>phi</th>\n",
       "      <th>eta</th>\n",
       "      <th>p</th>\n",
       "      <th>beta</th>\n",
       "      <th>gamma</th>\n",
       "      <th>less10Gev</th>\n",
       "      <th>notNearTrack</th>\n",
       "      <th>cTau</th>\n",
       "      <th>cTau*boost</th>\n",
       "    </tr>\n",
       "  </thead>\n",
       "  <tbody>\n",
       "    <tr>\n",
       "      <th>5057</th>\n",
       "      <td>1000024</td>\n",
       "      <td>19.0</td>\n",
       "      <td>62</td>\n",
       "      <td>1</td>\n",
       "      <td>700.048</td>\n",
       "      <td>788.451</td>\n",
       "      <td>2.934160</td>\n",
       "      <td>0.129825</td>\n",
       "      <td>795.104</td>\n",
       "      <td>0.750547</td>\n",
       "      <td>1.51328</td>\n",
       "      <td>0</td>\n",
       "      <td>1</td>\n",
       "      <td>1540.720</td>\n",
       "      <td>839.44</td>\n",
       "    </tr>\n",
       "    <tr>\n",
       "      <th>5594</th>\n",
       "      <td>-1000024</td>\n",
       "      <td>13.0</td>\n",
       "      <td>62</td>\n",
       "      <td>-1</td>\n",
       "      <td>700.048</td>\n",
       "      <td>614.763</td>\n",
       "      <td>0.865587</td>\n",
       "      <td>-0.206902</td>\n",
       "      <td>627.968</td>\n",
       "      <td>0.667745</td>\n",
       "      <td>1.34338</td>\n",
       "      <td>0</td>\n",
       "      <td>1</td>\n",
       "      <td>2303.350</td>\n",
       "      <td>852.02</td>\n",
       "    </tr>\n",
       "    <tr>\n",
       "      <th>356</th>\n",
       "      <td>1000024</td>\n",
       "      <td>15.0</td>\n",
       "      <td>62</td>\n",
       "      <td>1</td>\n",
       "      <td>700.048</td>\n",
       "      <td>226.279</td>\n",
       "      <td>-0.499792</td>\n",
       "      <td>1.903660</td>\n",
       "      <td>776.074</td>\n",
       "      <td>0.742541</td>\n",
       "      <td>1.49298</td>\n",
       "      <td>0</td>\n",
       "      <td>1</td>\n",
       "      <td>1020.270</td>\n",
       "      <td>920.32</td>\n",
       "    </tr>\n",
       "    <tr>\n",
       "      <th>1866</th>\n",
       "      <td>1000024</td>\n",
       "      <td>3.0</td>\n",
       "      <td>62</td>\n",
       "      <td>1</td>\n",
       "      <td>700.048</td>\n",
       "      <td>256.978</td>\n",
       "      <td>1.836530</td>\n",
       "      <td>-1.360430</td>\n",
       "      <td>533.797</td>\n",
       "      <td>0.606350</td>\n",
       "      <td>1.25755</td>\n",
       "      <td>0</td>\n",
       "      <td>1</td>\n",
       "      <td>926.875</td>\n",
       "      <td>950.01</td>\n",
       "    </tr>\n",
       "    <tr>\n",
       "      <th>2369</th>\n",
       "      <td>1000024</td>\n",
       "      <td>6.0</td>\n",
       "      <td>62</td>\n",
       "      <td>1</td>\n",
       "      <td>700.048</td>\n",
       "      <td>449.233</td>\n",
       "      <td>-1.634340</td>\n",
       "      <td>0.758833</td>\n",
       "      <td>584.900</td>\n",
       "      <td>0.641172</td>\n",
       "      <td>1.30311</td>\n",
       "      <td>0</td>\n",
       "      <td>1</td>\n",
       "      <td>967.235</td>\n",
       "      <td>1110.10</td>\n",
       "    </tr>\n",
       "  </tbody>\n",
       "</table>\n",
       "</div>"
      ],
      "text/plain": [
       "          pId  validHits  status  charge     mass       pt       phi  \\\n",
       "5057  1000024       19.0      62       1  700.048  788.451  2.934160   \n",
       "5594 -1000024       13.0      62      -1  700.048  614.763  0.865587   \n",
       "356   1000024       15.0      62       1  700.048  226.279 -0.499792   \n",
       "1866  1000024        3.0      62       1  700.048  256.978  1.836530   \n",
       "2369  1000024        6.0      62       1  700.048  449.233 -1.634340   \n",
       "\n",
       "           eta        p      beta    gamma  less10Gev  notNearTrack      cTau  \\\n",
       "5057  0.129825  795.104  0.750547  1.51328          0             1  1540.720   \n",
       "5594 -0.206902  627.968  0.667745  1.34338          0             1  2303.350   \n",
       "356   1.903660  776.074  0.742541  1.49298          0             1  1020.270   \n",
       "1866 -1.360430  533.797  0.606350  1.25755          0             1   926.875   \n",
       "2369  0.758833  584.900  0.641172  1.30311          0             1   967.235   \n",
       "\n",
       "      cTau*boost  \n",
       "5057      839.44  \n",
       "5594      852.02  \n",
       "356       920.32  \n",
       "1866      950.01  \n",
       "2369     1110.10  "
      ]
     },
     "execution_count": 79,
     "metadata": {},
     "output_type": "execute_result"
    }
   ],
   "source": [
    "copyCharginos = trackedCharginos.copy()\n",
    "\n",
    "copyCharginos.sort_values('cTau*boost', inplace=True)\n",
    "copyCharginos.tail()"
   ]
  },
  {
   "cell_type": "code",
   "execution_count": 90,
   "id": "competitive-trinity",
   "metadata": {},
   "outputs": [
    {
     "data": {
      "text/html": [
       "<div>\n",
       "<style scoped>\n",
       "    .dataframe tbody tr th:only-of-type {\n",
       "        vertical-align: middle;\n",
       "    }\n",
       "\n",
       "    .dataframe tbody tr th {\n",
       "        vertical-align: top;\n",
       "    }\n",
       "\n",
       "    .dataframe thead th {\n",
       "        text-align: right;\n",
       "    }\n",
       "</style>\n",
       "<table border=\"1\" class=\"dataframe\">\n",
       "  <thead>\n",
       "    <tr style=\"text-align: right;\">\n",
       "      <th></th>\n",
       "      <th>pId</th>\n",
       "      <th>validHits</th>\n",
       "      <th>status</th>\n",
       "      <th>charge</th>\n",
       "      <th>mass</th>\n",
       "      <th>pt</th>\n",
       "      <th>phi</th>\n",
       "      <th>eta</th>\n",
       "      <th>p</th>\n",
       "      <th>beta</th>\n",
       "      <th>gamma</th>\n",
       "      <th>less10Gev</th>\n",
       "      <th>notNearTrack</th>\n",
       "      <th>cTau</th>\n",
       "      <th>cTau*boost</th>\n",
       "      <th>cTauLabel10s</th>\n",
       "    </tr>\n",
       "  </thead>\n",
       "  <tbody>\n",
       "    <tr>\n",
       "      <th>13193</th>\n",
       "      <td>1000024</td>\n",
       "      <td>NaN</td>\n",
       "      <td>62</td>\n",
       "      <td>1</td>\n",
       "      <td>700.048</td>\n",
       "      <td>577.901</td>\n",
       "      <td>-1.045540</td>\n",
       "      <td>0.458945</td>\n",
       "      <td>639.839</td>\n",
       "      <td>0.674651</td>\n",
       "      <td>1.35476</td>\n",
       "      <td>0</td>\n",
       "      <td>1</td>\n",
       "      <td>32.7905</td>\n",
       "      <td>43.017</td>\n",
       "      <td>50.0</td>\n",
       "    </tr>\n",
       "    <tr>\n",
       "      <th>13197</th>\n",
       "      <td>-1000024</td>\n",
       "      <td>NaN</td>\n",
       "      <td>62</td>\n",
       "      <td>-1</td>\n",
       "      <td>700.048</td>\n",
       "      <td>482.926</td>\n",
       "      <td>1.700250</td>\n",
       "      <td>1.639210</td>\n",
       "      <td>1290.680</td>\n",
       "      <td>0.879027</td>\n",
       "      <td>2.09743</td>\n",
       "      <td>0</td>\n",
       "      <td>1</td>\n",
       "      <td>141.5710</td>\n",
       "      <td>74.741</td>\n",
       "      <td>80.0</td>\n",
       "    </tr>\n",
       "    <tr>\n",
       "      <th>13198</th>\n",
       "      <td>1000024</td>\n",
       "      <td>NaN</td>\n",
       "      <td>62</td>\n",
       "      <td>1</td>\n",
       "      <td>700.048</td>\n",
       "      <td>449.153</td>\n",
       "      <td>-0.563679</td>\n",
       "      <td>0.416271</td>\n",
       "      <td>488.633</td>\n",
       "      <td>0.572361</td>\n",
       "      <td>1.21951</td>\n",
       "      <td>0</td>\n",
       "      <td>1</td>\n",
       "      <td>14.6682</td>\n",
       "      <td>20.496</td>\n",
       "      <td>30.0</td>\n",
       "    </tr>\n",
       "    <tr>\n",
       "      <th>13199</th>\n",
       "      <td>1000024</td>\n",
       "      <td>NaN</td>\n",
       "      <td>62</td>\n",
       "      <td>1</td>\n",
       "      <td>700.048</td>\n",
       "      <td>647.497</td>\n",
       "      <td>0.149279</td>\n",
       "      <td>0.791069</td>\n",
       "      <td>860.883</td>\n",
       "      <td>0.775858</td>\n",
       "      <td>1.58502</td>\n",
       "      <td>0</td>\n",
       "      <td>1</td>\n",
       "      <td>42.6671</td>\n",
       "      <td>123.220</td>\n",
       "      <td>130.0</td>\n",
       "    </tr>\n",
       "    <tr>\n",
       "      <th>13201</th>\n",
       "      <td>1000024</td>\n",
       "      <td>NaN</td>\n",
       "      <td>62</td>\n",
       "      <td>1</td>\n",
       "      <td>700.048</td>\n",
       "      <td>112.671</td>\n",
       "      <td>0.089468</td>\n",
       "      <td>0.924968</td>\n",
       "      <td>164.406</td>\n",
       "      <td>0.228629</td>\n",
       "      <td>1.02721</td>\n",
       "      <td>0</td>\n",
       "      <td>1</td>\n",
       "      <td>400.2470</td>\n",
       "      <td>280.030</td>\n",
       "      <td>290.0</td>\n",
       "    </tr>\n",
       "  </tbody>\n",
       "</table>\n",
       "</div>"
      ],
      "text/plain": [
       "           pId  validHits  status  charge     mass       pt       phi  \\\n",
       "13193  1000024        NaN      62       1  700.048  577.901 -1.045540   \n",
       "13197 -1000024        NaN      62      -1  700.048  482.926  1.700250   \n",
       "13198  1000024        NaN      62       1  700.048  449.153 -0.563679   \n",
       "13199  1000024        NaN      62       1  700.048  647.497  0.149279   \n",
       "13201  1000024        NaN      62       1  700.048  112.671  0.089468   \n",
       "\n",
       "            eta         p      beta    gamma  less10Gev  notNearTrack  \\\n",
       "13193  0.458945   639.839  0.674651  1.35476          0             1   \n",
       "13197  1.639210  1290.680  0.879027  2.09743          0             1   \n",
       "13198  0.416271   488.633  0.572361  1.21951          0             1   \n",
       "13199  0.791069   860.883  0.775858  1.58502          0             1   \n",
       "13201  0.924968   164.406  0.228629  1.02721          0             1   \n",
       "\n",
       "           cTau  cTau*boost  cTauLabel10s  \n",
       "13193   32.7905      43.017          50.0  \n",
       "13197  141.5710      74.741          80.0  \n",
       "13198   14.6682      20.496          30.0  \n",
       "13199   42.6671     123.220         130.0  \n",
       "13201  400.2470     280.030         290.0  "
      ]
     },
     "execution_count": 90,
     "metadata": {},
     "output_type": "execute_result"
    }
   ],
   "source": [
    "def createLabel10s(cTau):\n",
    "    return (10 * np.ceil(cTau / 10))\n",
    "\n",
    "cTauRange = float(copyCharginos[-1:]['cTau*boost'])\n",
    "cTauIntervals10 = range(0, int(np.ceil(cTauRange/10)))\n",
    "\n",
    "trackedCharginos['cTauLabel10s'] = createLabel10s(trackedCharginos['cTau*boost'])\n",
    "trackedCharginos.tail() "
   ]
  },
  {
   "cell_type": "code",
   "execution_count": 94,
   "id": "exact-energy",
   "metadata": {},
   "outputs": [],
   "source": [
    "cTauIn10s = trackedCharginos.groupby('cTauLabel10s')['validHits'].sum()"
   ]
  },
  {
   "cell_type": "code",
   "execution_count": 120,
   "id": "beginning-membrane",
   "metadata": {},
   "outputs": [
    {
     "data": {
      "image/png": "[encoded data removed]",
      "text/plain": [
       "<Figure size 432x288 with 1 Axes>"
      ]
     },
     "metadata": {
      "needs_background": "light"
     },
     "output_type": "display_data"
    }
   ],
   "source": [
    "im = plt.subplots(111)\n",
    "ax = im.\n",
    "\n",
    "_,_,_ = plt.hist(cTauIn10s, bins = cTauIn10s.index)"
   ]
  },
  {
   "cell_type": "code",
   "execution_count": null,
   "id": "extreme-instrumentation",
   "metadata": {},
   "outputs": [],
   "source": []
  },
  {
   "cell_type": "code",
   "execution_count": null,
   "id": "found-royalty",
   "metadata": {},
   "outputs": [],
   "source": []
  },
  {
   "cell_type": "code",
   "execution_count": null,
   "id": "adapted-insight",
   "metadata": {},
   "outputs": [],
   "source": []
  },
  {
   "cell_type": "code",
   "execution_count": null,
   "id": "active-edward",
   "metadata": {},
   "outputs": [],
   "source": []
  },
  {
   "cell_type": "code",
   "execution_count": null,
   "id": "pediatric-breed",
   "metadata": {},
   "outputs": [],
   "source": []
  },
  {
   "cell_type": "code",
   "execution_count": null,
   "id": "historical-federation",
   "metadata": {},
   "outputs": [],
   "source": []
  },
  {
   "cell_type": "code",
   "execution_count": null,
   "id": "utility-inventory",
   "metadata": {},
   "outputs": [],
   "source": []
  },
  {
   "cell_type": "code",
   "execution_count": null,
   "id": "confirmed-stephen",
   "metadata": {},
   "outputs": [],
   "source": []
  }
 ],
 "metadata": {
  "kernelspec": {
   "display_name": "Python 3",
   "language": "python",
   "name": "python3"
  },
  "language_info": {
   "codemirror_mode": {
    "name": "ipython",
    "version": 3
   },
   "file_extension": ".py",
   "mimetype": "text/x-python",
   "name": "python",
   "nbconvert_exporter": "python",
   "pygments_lexer": "ipython3",
   "version": "3.9.1"
  }
 },
 "nbformat": 4,
 "nbformat_minor": 5
}
